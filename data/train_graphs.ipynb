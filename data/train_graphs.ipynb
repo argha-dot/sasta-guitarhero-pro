{
 "cells": [
  {
   "cell_type": "code",
   "execution_count": 15,
   "metadata": {},
   "outputs": [],
   "source": [
    "import pandas as pd\n",
    "import matplotlib.pyplot as plt"
   ]
  },
  {
   "cell_type": "code",
   "execution_count": 16,
   "metadata": {},
   "outputs": [],
   "source": [
    "data = pd.read_csv(\"data_vis_train.csv\")"
   ]
  },
  {
   "cell_type": "code",
   "execution_count": 17,
   "metadata": {},
   "outputs": [
    {
     "data": {
      "text/html": [
       "<div>\n",
       "<style scoped>\n",
       "    .dataframe tbody tr th:only-of-type {\n",
       "        vertical-align: middle;\n",
       "    }\n",
       "\n",
       "    .dataframe tbody tr th {\n",
       "        vertical-align: top;\n",
       "    }\n",
       "\n",
       "    .dataframe thead th {\n",
       "        text-align: right;\n",
       "    }\n",
       "</style>\n",
       "<table border=\"1\" class=\"dataframe\">\n",
       "  <thead>\n",
       "    <tr style=\"text-align: right;\">\n",
       "      <th></th>\n",
       "      <th>user_id</th>\n",
       "      <th>pass_seq</th>\n",
       "      <th>hit_rate</th>\n",
       "      <th>block_1_pass_hit_rate</th>\n",
       "      <th>block_1_noise_hit_rate</th>\n",
       "      <th>block_1_total_hit_rate</th>\n",
       "      <th>block_2_pass_hit_rate</th>\n",
       "      <th>block_2_noise_hit_rate</th>\n",
       "      <th>block_2_total_hit_rate</th>\n",
       "      <th>block_3_pass_hit_rate</th>\n",
       "      <th>...</th>\n",
       "      <th>block_4_total_hit_rate</th>\n",
       "      <th>block_5_pass_hit_rate</th>\n",
       "      <th>block_5_noise_hit_rate</th>\n",
       "      <th>block_5_total_hit_rate</th>\n",
       "      <th>block_6_pass_hit_rate</th>\n",
       "      <th>block_6_noise_hit_rate</th>\n",
       "      <th>block_6_total_hit_rate</th>\n",
       "      <th>block_7_pass_hit_rate</th>\n",
       "      <th>block_7_noise_hit_rate</th>\n",
       "      <th>block_7_total_hit_rate</th>\n",
       "    </tr>\n",
       "  </thead>\n",
       "  <tbody>\n",
       "    <tr>\n",
       "      <th>0</th>\n",
       "      <td>4Cj8NssIsDUnFbQxXqECssM09DX2</td>\n",
       "      <td>S L L J J L L D D K L K S K S J D J K J K F F ...</td>\n",
       "      <td>0.700529</td>\n",
       "      <td>0.657778</td>\n",
       "      <td>0.555556</td>\n",
       "      <td>0.640741</td>\n",
       "      <td>0.764444</td>\n",
       "      <td>0.688889</td>\n",
       "      <td>0.751852</td>\n",
       "      <td>0.673333</td>\n",
       "      <td>...</td>\n",
       "      <td>0.583333</td>\n",
       "      <td>0.651111</td>\n",
       "      <td>0.666667</td>\n",
       "      <td>0.653704</td>\n",
       "      <td>0.833333</td>\n",
       "      <td>0.700000</td>\n",
       "      <td>0.811111</td>\n",
       "      <td>0.784444</td>\n",
       "      <td>0.855556</td>\n",
       "      <td>0.796296</td>\n",
       "    </tr>\n",
       "    <tr>\n",
       "      <th>1</th>\n",
       "      <td>6GHklhrNxsMnu5psh6vOhIa2uWP2</td>\n",
       "      <td>S L L J J L L D D K L K S K S J D J K J K F F ...</td>\n",
       "      <td>0.781481</td>\n",
       "      <td>0.648889</td>\n",
       "      <td>0.755556</td>\n",
       "      <td>0.666667</td>\n",
       "      <td>0.777778</td>\n",
       "      <td>0.677778</td>\n",
       "      <td>0.761111</td>\n",
       "      <td>0.740000</td>\n",
       "      <td>...</td>\n",
       "      <td>0.807407</td>\n",
       "      <td>0.860000</td>\n",
       "      <td>0.766667</td>\n",
       "      <td>0.844444</td>\n",
       "      <td>0.840000</td>\n",
       "      <td>0.677778</td>\n",
       "      <td>0.812963</td>\n",
       "      <td>0.880000</td>\n",
       "      <td>0.777778</td>\n",
       "      <td>0.862963</td>\n",
       "    </tr>\n",
       "    <tr>\n",
       "      <th>2</th>\n",
       "      <td>7uFdFp0n6cP2FYtvbDRVTI32V543</td>\n",
       "      <td>S L L J J L L D D K L K S K S J D J K J K F F ...</td>\n",
       "      <td>0.707143</td>\n",
       "      <td>0.746667</td>\n",
       "      <td>0.588889</td>\n",
       "      <td>0.720370</td>\n",
       "      <td>0.631111</td>\n",
       "      <td>0.511111</td>\n",
       "      <td>0.611111</td>\n",
       "      <td>0.706667</td>\n",
       "      <td>...</td>\n",
       "      <td>0.787037</td>\n",
       "      <td>0.740000</td>\n",
       "      <td>0.677778</td>\n",
       "      <td>0.729630</td>\n",
       "      <td>0.751111</td>\n",
       "      <td>0.755556</td>\n",
       "      <td>0.751852</td>\n",
       "      <td>0.706667</td>\n",
       "      <td>0.633333</td>\n",
       "      <td>0.694444</td>\n",
       "    </tr>\n",
       "  </tbody>\n",
       "</table>\n",
       "<p>3 rows × 24 columns</p>\n",
       "</div>"
      ],
      "text/plain": [
       "                        user_id  \\\n",
       "0  4Cj8NssIsDUnFbQxXqECssM09DX2   \n",
       "1  6GHklhrNxsMnu5psh6vOhIa2uWP2   \n",
       "2  7uFdFp0n6cP2FYtvbDRVTI32V543   \n",
       "\n",
       "                                            pass_seq  hit_rate  \\\n",
       "0  S L L J J L L D D K L K S K S J D J K J K F F ...  0.700529   \n",
       "1  S L L J J L L D D K L K S K S J D J K J K F F ...  0.781481   \n",
       "2  S L L J J L L D D K L K S K S J D J K J K F F ...  0.707143   \n",
       "\n",
       "   block_1_pass_hit_rate  block_1_noise_hit_rate  block_1_total_hit_rate  \\\n",
       "0               0.657778                0.555556                0.640741   \n",
       "1               0.648889                0.755556                0.666667   \n",
       "2               0.746667                0.588889                0.720370   \n",
       "\n",
       "   block_2_pass_hit_rate  block_2_noise_hit_rate  block_2_total_hit_rate  \\\n",
       "0               0.764444                0.688889                0.751852   \n",
       "1               0.777778                0.677778                0.761111   \n",
       "2               0.631111                0.511111                0.611111   \n",
       "\n",
       "   block_3_pass_hit_rate  ...  block_4_total_hit_rate  block_5_pass_hit_rate  \\\n",
       "0               0.673333  ...                0.583333               0.651111   \n",
       "1               0.740000  ...                0.807407               0.860000   \n",
       "2               0.706667  ...                0.787037               0.740000   \n",
       "\n",
       "   block_5_noise_hit_rate  block_5_total_hit_rate  block_6_pass_hit_rate  \\\n",
       "0                0.666667                0.653704               0.833333   \n",
       "1                0.766667                0.844444               0.840000   \n",
       "2                0.677778                0.729630               0.751111   \n",
       "\n",
       "   block_6_noise_hit_rate  block_6_total_hit_rate  block_7_pass_hit_rate  \\\n",
       "0                0.700000                0.811111               0.784444   \n",
       "1                0.677778                0.812963               0.880000   \n",
       "2                0.755556                0.751852               0.706667   \n",
       "\n",
       "   block_7_noise_hit_rate  block_7_total_hit_rate  \n",
       "0                0.855556                0.796296  \n",
       "1                0.777778                0.862963  \n",
       "2                0.633333                0.694444  \n",
       "\n",
       "[3 rows x 24 columns]"
      ]
     },
     "execution_count": 17,
     "metadata": {},
     "output_type": "execute_result"
    }
   ],
   "source": [
    "data.head(3)"
   ]
  },
  {
   "cell_type": "code",
   "execution_count": 18,
   "metadata": {},
   "outputs": [
    {
     "name": "stderr",
     "output_type": "stream",
     "text": [
      "C:\\Users\\Admin\\AppData\\Local\\Temp/ipykernel_7980/1841347895.py:1: FutureWarning: Dropping of nuisance columns in DataFrame reductions (with 'numeric_only=None') is deprecated; in a future version this will raise TypeError.  Select only valid columns before calling the reduction.\n",
      "  avg = data.mean()\n"
     ]
    }
   ],
   "source": [
    "avg = data.mean()"
   ]
  },
  {
   "cell_type": "code",
   "execution_count": 19,
   "metadata": {},
   "outputs": [
    {
     "data": {
      "text/plain": [
       "hit_rate                  0.691796\n",
       "block_1_pass_hit_rate     0.633796\n",
       "block_1_noise_hit_rate    0.593056\n",
       "block_1_total_hit_rate    0.627006\n",
       "block_2_pass_hit_rate     0.713519\n",
       "block_2_noise_hit_rate    0.668981\n",
       "block_2_total_hit_rate    0.706096\n",
       "block_3_pass_hit_rate     0.727778\n",
       "block_3_noise_hit_rate    0.690278\n",
       "block_3_total_hit_rate    0.721528\n",
       "block_4_pass_hit_rate     0.709537\n",
       "block_4_noise_hit_rate    0.661111\n",
       "block_4_total_hit_rate    0.701466\n",
       "block_5_pass_hit_rate     0.717130\n",
       "block_5_noise_hit_rate    0.689815\n",
       "block_5_total_hit_rate    0.712577\n",
       "block_6_pass_hit_rate     0.694630\n",
       "block_6_noise_hit_rate    0.665741\n",
       "block_6_total_hit_rate    0.689815\n",
       "block_7_pass_hit_rate     0.690821\n",
       "block_7_noise_hit_rate    0.654589\n",
       "block_7_total_hit_rate    0.684783\n",
       "dtype: float64"
      ]
     },
     "execution_count": 19,
     "metadata": {},
     "output_type": "execute_result"
    }
   ],
   "source": [
    "avg"
   ]
  },
  {
   "cell_type": "code",
   "execution_count": 20,
   "metadata": {},
   "outputs": [
    {
     "name": "stdout",
     "output_type": "stream",
     "text": [
      "0.6337962962962963\n",
      "0.7135185185185184\n",
      "0.7277777777777779\n",
      "0.709537037037037\n",
      "0.7171296296296296\n",
      "0.6946296296296296\n",
      "0.6908212560386474\n"
     ]
    }
   ],
   "source": [
    "for i in range(1, 8):\n",
    "    print(avg[f\"block_{i}_pass_hit_rate\"])\n",
    "    pass"
   ]
  },
  {
   "cell_type": "code",
   "execution_count": 21,
   "metadata": {},
   "outputs": [
    {
     "name": "stdout",
     "output_type": "stream",
     "text": [
      "0.06869633099141297\n",
      "0.06657439446366784\n",
      "0.054325955734406566\n",
      "0.07324929971988788\n",
      "0.03959731543624141\n",
      "0.04339360222531288\n",
      "0.05535055350553513\n"
     ]
    }
   ],
   "source": [
    "for i in range(1, 8):\n",
    "    avg[f\"block_{i}_perf_hit_rate\"] = (avg[f\"block_{i}_pass_hit_rate\"] - avg[f\"block_{i}_noise_hit_rate\"]) / avg[f\"block_{i}_noise_hit_rate\"]\n",
    "    print(avg[f\"block_{i}_perf_hit_rate\"])\n",
    "    pass"
   ]
  },
  {
   "cell_type": "code",
   "execution_count": 22,
   "metadata": {},
   "outputs": [
    {
     "data": {
      "text/plain": [
       "hit_rate                  0.691796\n",
       "block_1_pass_hit_rate     0.633796\n",
       "block_1_noise_hit_rate    0.593056\n",
       "block_1_total_hit_rate    0.627006\n",
       "block_2_pass_hit_rate     0.713519\n",
       "block_2_noise_hit_rate    0.668981\n",
       "block_2_total_hit_rate    0.706096\n",
       "block_3_pass_hit_rate     0.727778\n",
       "block_3_noise_hit_rate    0.690278\n",
       "block_3_total_hit_rate    0.721528\n",
       "block_4_pass_hit_rate     0.709537\n",
       "block_4_noise_hit_rate    0.661111\n",
       "block_4_total_hit_rate    0.701466\n",
       "block_5_pass_hit_rate     0.717130\n",
       "block_5_noise_hit_rate    0.689815\n",
       "block_5_total_hit_rate    0.712577\n",
       "block_6_pass_hit_rate     0.694630\n",
       "block_6_noise_hit_rate    0.665741\n",
       "block_6_total_hit_rate    0.689815\n",
       "block_7_pass_hit_rate     0.690821\n",
       "block_7_noise_hit_rate    0.654589\n",
       "block_7_total_hit_rate    0.684783\n",
       "block_1_perf_hit_rate     0.068696\n",
       "block_2_perf_hit_rate     0.066574\n",
       "block_3_perf_hit_rate     0.054326\n",
       "block_4_perf_hit_rate     0.073249\n",
       "block_5_perf_hit_rate     0.039597\n",
       "block_6_perf_hit_rate     0.043394\n",
       "block_7_perf_hit_rate     0.055351\n",
       "dtype: float64"
      ]
     },
     "execution_count": 22,
     "metadata": {},
     "output_type": "execute_result"
    }
   ],
   "source": [
    "avg"
   ]
  },
  {
   "cell_type": "code",
   "execution_count": 23,
   "metadata": {},
   "outputs": [
    {
     "data": {
      "text/plain": [
       "block_1_perf_hit_rate    0.068696\n",
       "block_2_perf_hit_rate    0.066574\n",
       "block_3_perf_hit_rate    0.054326\n",
       "block_4_perf_hit_rate    0.073249\n",
       "block_5_perf_hit_rate    0.039597\n",
       "block_6_perf_hit_rate    0.043394\n",
       "block_7_perf_hit_rate    0.055351\n",
       "dtype: float64"
      ]
     },
     "execution_count": 23,
     "metadata": {},
     "output_type": "execute_result"
    }
   ],
   "source": [
    "avg.tail(7)"
   ]
  },
  {
   "cell_type": "code",
   "execution_count": 25,
   "metadata": {},
   "outputs": [
    {
     "data": {
      "image/png": "[encoded data removed]",
      "text/plain": [
       "<Figure size 432x288 with 1 Axes>"
      ]
     },
     "metadata": {
      "needs_background": "light"
     },
     "output_type": "display_data"
    }
   ],
   "source": [
    "fig, ax = plt.subplots()\n",
    "ax.bar([\"block 1\", \"block 2\", \"block 3\", \"block 4\", \"block 5\", \"block 6\", \"block 7\"], [avg[\"block_1_perf_hit_rate\"], avg[\"block_2_perf_hit_rate\"], avg[\"block_3_perf_hit_rate\"], avg[\"block_4_perf_hit_rate\"], avg[\"block_5_perf_hit_rate\"], avg[\"block_6_perf_hit_rate\"], avg[\"block_7_perf_hit_rate\"]])\n",
    "fig.savefig(\"images/train_perf_gain_vis\")"
   ]
  },
  {
   "cell_type": "code",
   "execution_count": null,
   "metadata": {},
   "outputs": [],
   "source": []
  }
 ],
 "metadata": {
  "interpreter": {
   "hash": "9b8e903281f99224b91dc5fe8b13ef7cb6ba79fd3dbeef53b342104e25586b8b"
  },
  "kernelspec": {
   "display_name": "Python 3.9.6 64-bit ('venv': venv)",
   "name": "python3"
  },
  "language_info": {
   "codemirror_mode": {
    "name": "ipython",
    "version": 3
   },
   "file_extension": ".py",
   "mimetype": "text/x-python",
   "name": "python",
   "nbconvert_exporter": "python",
   "pygments_lexer": "ipython3",
   "version": "3.9.6"
  },
  "orig_nbformat": 4
 },
 "nbformat": 4,
 "nbformat_minor": 2
}
