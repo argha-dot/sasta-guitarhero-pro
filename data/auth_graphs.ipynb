{
 "cells": [
  {
   "cell_type": "code",
   "execution_count": 19,
   "metadata": {},
   "outputs": [],
   "source": [
    "import pandas as pd\n",
    "import matplotlib.pyplot as plt"
   ]
  },
  {
   "cell_type": "code",
   "execution_count": 20,
   "metadata": {},
   "outputs": [],
   "source": [
    "data = pd.read_csv(\"data_aud_auth.csv\")"
   ]
  },
  {
   "cell_type": "code",
   "execution_count": 21,
   "metadata": {},
   "outputs": [
    {
     "data": {
      "text/html": [
       "<div>\n",
       "<style scoped>\n",
       "    .dataframe tbody tr th:only-of-type {\n",
       "        vertical-align: middle;\n",
       "    }\n",
       "\n",
       "    .dataframe tbody tr th {\n",
       "        vertical-align: top;\n",
       "    }\n",
       "\n",
       "    .dataframe thead th {\n",
       "        text-align: right;\n",
       "    }\n",
       "</style>\n",
       "<table border=\"1\" class=\"dataframe\">\n",
       "  <thead>\n",
       "    <tr style=\"text-align: right;\">\n",
       "      <th></th>\n",
       "      <th>user_id</th>\n",
       "      <th>pass_seq</th>\n",
       "      <th>hit_rate_train</th>\n",
       "      <th>hit_rate_aud</th>\n",
       "      <th>hit_rate_aud_pass</th>\n",
       "      <th>hit_rate_aud_two</th>\n",
       "      <th>hit_rate_aud_two_pass</th>\n",
       "    </tr>\n",
       "  </thead>\n",
       "  <tbody>\n",
       "    <tr>\n",
       "      <th>0</th>\n",
       "      <td>41u6bST8ZrP1yKM38o9dv4o2BF93</td>\n",
       "      <td>D K J D F D L K S K D J S F K F F L F J L D J ...</td>\n",
       "      <td>0.689683</td>\n",
       "      <td>0.789216</td>\n",
       "      <td>0.838889</td>\n",
       "      <td>0.772876</td>\n",
       "      <td>0.838462</td>\n",
       "    </tr>\n",
       "    <tr>\n",
       "      <th>1</th>\n",
       "      <td>4rpcTqo75HfUmIXU69L8IKk2C022</td>\n",
       "      <td>K J K F L J D F K L D K S K D L S D S F F J S ...</td>\n",
       "      <td>0.664815</td>\n",
       "      <td>0.681373</td>\n",
       "      <td>0.697222</td>\n",
       "      <td>0.671569</td>\n",
       "      <td>0.687179</td>\n",
       "    </tr>\n",
       "    <tr>\n",
       "      <th>2</th>\n",
       "      <td>7LP64KOIsrOFhtM5eEvUmi89aYJ2</td>\n",
       "      <td>K J K F L J D F K L D K S K D L S D S F F J S ...</td>\n",
       "      <td>0.675661</td>\n",
       "      <td>0.655229</td>\n",
       "      <td>0.636111</td>\n",
       "      <td>0.745098</td>\n",
       "      <td>0.782222</td>\n",
       "    </tr>\n",
       "  </tbody>\n",
       "</table>\n",
       "</div>"
      ],
      "text/plain": [
       "                        user_id  \\\n",
       "0  41u6bST8ZrP1yKM38o9dv4o2BF93   \n",
       "1  4rpcTqo75HfUmIXU69L8IKk2C022   \n",
       "2  7LP64KOIsrOFhtM5eEvUmi89aYJ2   \n",
       "\n",
       "                                            pass_seq  hit_rate_train  \\\n",
       "0  D K J D F D L K S K D J S F K F F L F J L D J ...        0.689683   \n",
       "1  K J K F L J D F K L D K S K D L S D S F F J S ...        0.664815   \n",
       "2  K J K F L J D F K L D K S K D L S D S F F J S ...        0.675661   \n",
       "\n",
       "   hit_rate_aud  hit_rate_aud_pass  hit_rate_aud_two  hit_rate_aud_two_pass  \n",
       "0      0.789216           0.838889          0.772876               0.838462  \n",
       "1      0.681373           0.697222          0.671569               0.687179  \n",
       "2      0.655229           0.636111          0.745098               0.782222  "
      ]
     },
     "execution_count": 21,
     "metadata": {},
     "output_type": "execute_result"
    }
   ],
   "source": [
    "data.head(3)"
   ]
  },
  {
   "cell_type": "code",
   "execution_count": 22,
   "metadata": {},
   "outputs": [
    {
     "name": "stderr",
     "output_type": "stream",
     "text": [
      "C:\\Users\\Admin\\AppData\\Local\\Temp/ipykernel_22032/1841347895.py:1: FutureWarning: Dropping of nuisance columns in DataFrame reductions (with 'numeric_only=None') is deprecated; in a future version this will raise TypeError.  Select only valid columns before calling the reduction.\n",
      "  avg = data.mean()\n"
     ]
    }
   ],
   "source": [
    "avg = data.mean()"
   ]
  },
  {
   "cell_type": "code",
   "execution_count": 23,
   "metadata": {},
   "outputs": [
    {
     "data": {
      "text/plain": [
       "hit_rate_train           0.695370\n",
       "hit_rate_aud             0.726920\n",
       "hit_rate_aud_pass        0.735518\n",
       "hit_rate_aud_two         0.735498\n",
       "hit_rate_aud_two_pass    0.744602\n",
       "dtype: float64"
      ]
     },
     "execution_count": 23,
     "metadata": {},
     "output_type": "execute_result"
    }
   ],
   "source": [
    "avg"
   ]
  },
  {
   "cell_type": "code",
   "execution_count": 24,
   "metadata": {},
   "outputs": [
    {
     "data": {
      "text/plain": [
       "0.011828347263862818"
      ]
     },
     "execution_count": 24,
     "metadata": {},
     "output_type": "execute_result"
    }
   ],
   "source": [
    "avg[\"hit_rate_perf_auth\"] = (avg[\"hit_rate_aud_pass\"] - avg[\"hit_rate_aud\"]) / avg[\"hit_rate_aud\"]\n",
    "avg[\"hit_rate_perf_auth\"]"
   ]
  },
  {
   "cell_type": "code",
   "execution_count": 25,
   "metadata": {},
   "outputs": [
    {
     "data": {
      "text/plain": [
       "0.012377285308415564"
      ]
     },
     "execution_count": 25,
     "metadata": {},
     "output_type": "execute_result"
    }
   ],
   "source": [
    "avg[\"hit_rate_perf_auth_two\"] = (avg[\"hit_rate_aud_two_pass\"] - avg[\"hit_rate_aud_two\"]) / avg[\"hit_rate_aud_two\"]\n",
    "avg[\"hit_rate_perf_auth_two\"]"
   ]
  },
  {
   "cell_type": "code",
   "execution_count": 26,
   "metadata": {},
   "outputs": [
    {
     "data": {
      "text/plain": [
       "0.05773588781000485"
      ]
     },
     "execution_count": 26,
     "metadata": {},
     "output_type": "execute_result"
    }
   ],
   "source": [
    "avg[\"hit_rate_perf_train_auth\"] = (avg[\"hit_rate_aud_pass\"] - avg[\"hit_rate_train\"]) / avg[\"hit_rate_train\"]\n",
    "avg[\"hit_rate_perf_train_auth\"]"
   ]
  },
  {
   "cell_type": "code",
   "execution_count": 27,
   "metadata": {},
   "outputs": [
    {
     "data": {
      "text/plain": [
       "0.070798916463031"
      ]
     },
     "execution_count": 27,
     "metadata": {},
     "output_type": "execute_result"
    }
   ],
   "source": [
    "avg[\"hit_rate_perf_train_auth_two\"] = (avg[\"hit_rate_aud_two_pass\"] - avg[\"hit_rate_train\"]) / avg[\"hit_rate_train\"]\n",
    "avg[\"hit_rate_perf_train_auth_two\"]"
   ]
  },
  {
   "cell_type": "code",
   "execution_count": 29,
   "metadata": {},
   "outputs": [
    {
     "data": {
      "image/png": "[encoded data removed]",
      "text/plain": [
       "<Figure size 432x288 with 1 Axes>"
      ]
     },
     "metadata": {
      "needs_background": "light"
     },
     "output_type": "display_data"
    }
   ],
   "source": [
    "fig, ax = plt.subplots()\n",
    "ax.bar([\"Training Hit-Rate\", \"Auth 1 Hit-Rate\", \"Auth 2 Hit-Rate\"], [avg[\"hit_rate_train\"], avg[\"hit_rate_aud\"], avg[\"hit_rate_aud_two\"]])\n",
    "plt.ylim(bottom=0.65)\n",
    "plt.xlabel(\"HitRates\")\n",
    "plt.title(\"General Implicit learning display [Game 0]\")\n",
    "fig.savefig(\"images/hitrate-comp-audio\")"
   ]
  },
  {
   "cell_type": "code",
   "execution_count": null,
   "metadata": {},
   "outputs": [
    {
     "data": {
      "text/plain": [
       "hit_rate_train                  0.691796\n",
       "hit_rate_auth                   0.714733\n",
       "hit_rate_auth_pass              0.725714\n",
       "hit_rate_auth_two               0.713303\n",
       "hit_rate_auth_two_pass          0.716897\n",
       "hit_rate_perf_auth              0.015363\n",
       "hit_rate_perf_auth_two          0.005037\n",
       "hit_rate_perf_train_auth        0.049029\n",
       "hit_rate_perf_train_auth_two    0.036284\n",
       "dtype: float64"
      ]
     },
     "execution_count": 12,
     "metadata": {},
     "output_type": "execute_result"
    }
   ],
   "source": [
    "avg"
   ]
  },
  {
   "cell_type": "code",
   "execution_count": 30,
   "metadata": {},
   "outputs": [
    {
     "data": {
      "image/png": "[encoded data removed]",
      "text/plain": [
       "<Figure size 432x288 with 1 Axes>"
      ]
     },
     "metadata": {
      "needs_background": "light"
     },
     "output_type": "display_data"
    }
   ],
   "source": [
    "fig1, ax1 = plt.subplots()\n",
    "ax1.bar([\"Auth 1\", \"Over Training (Auth 1)\", \"Auth 2\", \"Over Training (Auth 2)\"], \n",
    "    [avg[\"hit_rate_perf_auth\"], avg[\"hit_rate_perf_train_auth\"], avg[\"hit_rate_perf_auth_two\"], avg[\"hit_rate_perf_train_auth_two\"]])\n",
    "plt.ylabel(\"Performance gain\")\n",
    "plt.title(\"Performance advantage in auth during pass sequence [Game 0]\")\n",
    "# plt.ylim(bottom=0.005)\n",
    "fig1.savefig(\"images/hitrate-advantage-comp-audio\")"
   ]
  },
  {
   "cell_type": "code",
   "execution_count": null,
   "metadata": {},
   "outputs": [],
   "source": []
  }
 ],
 "metadata": {
  "interpreter": {
   "hash": "9b8e903281f99224b91dc5fe8b13ef7cb6ba79fd3dbeef53b342104e25586b8b"
  },
  "kernelspec": {
   "display_name": "Python 3.9.6 64-bit ('venv': venv)",
   "name": "python3"
  },
  "language_info": {
   "codemirror_mode": {
    "name": "ipython",
    "version": 3
   },
   "file_extension": ".py",
   "mimetype": "text/x-python",
   "name": "python",
   "nbconvert_exporter": "python",
   "pygments_lexer": "ipython3",
   "version": "3.9.6"
  },
  "orig_nbformat": 4
 },
 "nbformat": 4,
 "nbformat_minor": 2
}
